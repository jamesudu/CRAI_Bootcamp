{
 "cells": [
  {
   "cell_type": "code",
   "execution_count": null,
   "metadata": {},
   "outputs": [],
   "source": [
    "# practise makes parmanent"
   ]
  },
  {
   "cell_type": "code",
   "execution_count": 5,
   "metadata": {},
   "outputs": [
    {
     "name": "stdout",
     "output_type": "stream",
     "text": [
      "Name must be atleast 3 character\n"
     ]
    }
   ],
   "source": [
    "from ast import Name\n",
    "\n",
    "\n",
    "name = \"j\"\n",
    "if len(name) < 3:\n",
    "    print(\"Name must be atleast 3 character\")\n",
    "elif len(name) > 50:\n",
    "    print(\"Name must be a maximun of 50 character\")\n",
    "else:\n",
    "    print(\"Name looks good!\")"
   ]
  }
 ],
 "metadata": {
  "kernelspec": {
   "display_name": "Python 3",
   "language": "python",
   "name": "python3"
  },
  "language_info": {
   "codemirror_mode": {
    "name": "ipython",
    "version": 3
   },
   "file_extension": ".py",
   "mimetype": "text/x-python",
   "name": "python",
   "nbconvert_exporter": "python",
   "pygments_lexer": "ipython3",
   "version": "3.11.5"
  }
 },
 "nbformat": 4,
 "nbformat_minor": 2
}
