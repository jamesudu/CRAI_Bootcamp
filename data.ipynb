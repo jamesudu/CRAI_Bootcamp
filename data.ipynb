{
 "cells": [
  {
   "cell_type": "code",
   "execution_count": 6,
   "metadata": {},
   "outputs": [],
   "source": [
    "# i suufered before i installed pandas with (\"pip install pandas\")\n",
    "# importing dictionaries "
   ]
  },
  {
   "cell_type": "code",
   "execution_count": 2,
   "metadata": {},
   "outputs": [
    {
     "name": "stderr",
     "output_type": "stream",
     "text": [
      "Matplotlib is building the font cache; this may take a moment.\n"
     ]
    }
   ],
   "source": [
    "import pandas as pd\n",
    "import math\n",
    "import numpy as np\n",
    "import statistics as st\n",
    "import matplotlib.pyplot as plt"
   ]
  },
  {
   "cell_type": "code",
   "execution_count": 8,
   "metadata": {},
   "outputs": [],
   "source": [
    "# working with data_csv"
   ]
  },
  {
   "cell_type": "code",
   "execution_count": 24,
   "metadata": {},
   "outputs": [],
   "source": [
    "from types import NoneType\n",
    "\n",
    "\n",
    "df = pd.read_csv(\"bill_authentication.csv\")"
   ]
  },
  {
   "cell_type": "code",
   "execution_count": 40,
   "metadata": {},
   "outputs": [],
   "source": [
    "data = pd.read_csv(\"bill_authentication.csv\", header=None)"
   ]
  },
  {
   "cell_type": "code",
   "execution_count": 35,
   "metadata": {},
   "outputs": [],
   "source": [
    "from statistics import variance\n",
    "\n",
    "\n",
    "data.head(5)\n",
    "df.columns = [\"Variance\", \"Skewness\", \"kurtosis\", \"Entropy\", \"Class\"]"
   ]
  },
  {
   "cell_type": "code",
   "execution_count": 46,
   "metadata": {},
   "outputs": [
    {
     "data": {
      "text/plain": [
       "(1372, 5)"
      ]
     },
     "execution_count": 46,
     "metadata": {},
     "output_type": "execute_result"
    }
   ],
   "source": [
    "from pyclbr import Class\n",
    "\n",
    "\n",
    "df.shape"
   ]
  },
  {
   "cell_type": "code",
   "execution_count": 47,
   "metadata": {},
   "outputs": [
    {
     "data": {
      "text/html": [
       "<div>\n",
       "<style scoped>\n",
       "    .dataframe tbody tr th:only-of-type {\n",
       "        vertical-align: middle;\n",
       "    }\n",
       "\n",
       "    .dataframe tbody tr th {\n",
       "        vertical-align: top;\n",
       "    }\n",
       "\n",
       "    .dataframe thead th {\n",
       "        text-align: right;\n",
       "    }\n",
       "</style>\n",
       "<table border=\"1\" class=\"dataframe\">\n",
       "  <thead>\n",
       "    <tr style=\"text-align: right;\">\n",
       "      <th></th>\n",
       "      <th>Variance</th>\n",
       "      <th>Skewness</th>\n",
       "      <th>kurtosis</th>\n",
       "      <th>Entropy</th>\n",
       "      <th>Class</th>\n",
       "    </tr>\n",
       "  </thead>\n",
       "  <tbody>\n",
       "    <tr>\n",
       "      <th>count</th>\n",
       "      <td>1372.000000</td>\n",
       "      <td>1372.000000</td>\n",
       "      <td>1372.000000</td>\n",
       "      <td>1372.000000</td>\n",
       "      <td>1372.000000</td>\n",
       "    </tr>\n",
       "    <tr>\n",
       "      <th>mean</th>\n",
       "      <td>0.433735</td>\n",
       "      <td>1.922353</td>\n",
       "      <td>1.397627</td>\n",
       "      <td>-1.191657</td>\n",
       "      <td>0.444606</td>\n",
       "    </tr>\n",
       "    <tr>\n",
       "      <th>std</th>\n",
       "      <td>2.842763</td>\n",
       "      <td>5.869047</td>\n",
       "      <td>4.310030</td>\n",
       "      <td>2.101013</td>\n",
       "      <td>0.497103</td>\n",
       "    </tr>\n",
       "    <tr>\n",
       "      <th>min</th>\n",
       "      <td>-7.042100</td>\n",
       "      <td>-13.773100</td>\n",
       "      <td>-5.286100</td>\n",
       "      <td>-8.548200</td>\n",
       "      <td>0.000000</td>\n",
       "    </tr>\n",
       "    <tr>\n",
       "      <th>25%</th>\n",
       "      <td>-1.773000</td>\n",
       "      <td>-1.708200</td>\n",
       "      <td>-1.574975</td>\n",
       "      <td>-2.413450</td>\n",
       "      <td>0.000000</td>\n",
       "    </tr>\n",
       "    <tr>\n",
       "      <th>50%</th>\n",
       "      <td>0.496180</td>\n",
       "      <td>2.319650</td>\n",
       "      <td>0.616630</td>\n",
       "      <td>-0.586650</td>\n",
       "      <td>0.000000</td>\n",
       "    </tr>\n",
       "    <tr>\n",
       "      <th>75%</th>\n",
       "      <td>2.821475</td>\n",
       "      <td>6.814625</td>\n",
       "      <td>3.179250</td>\n",
       "      <td>0.394810</td>\n",
       "      <td>1.000000</td>\n",
       "    </tr>\n",
       "    <tr>\n",
       "      <th>max</th>\n",
       "      <td>6.824800</td>\n",
       "      <td>12.951600</td>\n",
       "      <td>17.927400</td>\n",
       "      <td>2.449500</td>\n",
       "      <td>1.000000</td>\n",
       "    </tr>\n",
       "  </tbody>\n",
       "</table>\n",
       "</div>"
      ],
      "text/plain": [
       "          Variance     Skewness     kurtosis      Entropy        Class\n",
       "count  1372.000000  1372.000000  1372.000000  1372.000000  1372.000000\n",
       "mean      0.433735     1.922353     1.397627    -1.191657     0.444606\n",
       "std       2.842763     5.869047     4.310030     2.101013     0.497103\n",
       "min      -7.042100   -13.773100    -5.286100    -8.548200     0.000000\n",
       "25%      -1.773000    -1.708200    -1.574975    -2.413450     0.000000\n",
       "50%       0.496180     2.319650     0.616630    -0.586650     0.000000\n",
       "75%       2.821475     6.814625     3.179250     0.394810     1.000000\n",
       "max       6.824800    12.951600    17.927400     2.449500     1.000000"
      ]
     },
     "execution_count": 47,
     "metadata": {},
     "output_type": "execute_result"
    }
   ],
   "source": [
    "df.describe()"
   ]
  },
  {
   "cell_type": "markdown",
   "metadata": {},
   "source": [
    "practise on using plot"
   ]
  },
  {
   "cell_type": "code",
   "execution_count": null,
   "metadata": {},
   "outputs": [],
   "source": []
  },
  {
   "cell_type": "code",
   "execution_count": 52,
   "metadata": {},
   "outputs": [
    {
     "data": {
      "text/plain": [
       "<Axes: xlabel='Variance'>"
      ]
     },
     "execution_count": 52,
     "metadata": {},
     "output_type": "execute_result"
    },
    {
     "data": {
      "image/png": "[encoded data removed]",
      "text/plain": [
       "<Figure size 640x480 with 1 Axes>"
      ]
     },
     "metadata": {},
     "output_type": "display_data"
    }
   ],
   "source": [
    "df.plot(\"Variance\")"
   ]
  },
  {
   "cell_type": "code",
   "execution_count": 48,
   "metadata": {},
   "outputs": [
    {
     "data": {
      "text/plain": [
       "True"
      ]
     },
     "execution_count": 48,
     "metadata": {},
     "output_type": "execute_result"
    }
   ],
   "source": [
    "import pandas as pd\n",
    "import numpy as np\n",
    "import matplotlib.pyplot\n",
    "pd.isnull(np.nan)\n"
   ]
  },
  {
   "cell_type": "code",
   "execution_count": 2,
   "metadata": {},
   "outputs": [],
   "source": [
    "import numpy as np"
   ]
  },
  {
   "cell_type": "code",
   "execution_count": 3,
   "metadata": {},
   "outputs": [
    {
     "name": "stdout",
     "output_type": "stream",
     "text": [
      "[[ 11  12  13  14   1  13  34]\n",
      " [ 63  45  66  54  67  57 376]]\n"
     ]
    }
   ],
   "source": [
    "s = np.array([[11,12,13,14,1,13,34],[63,45,66,54,67,57,376,]])\n",
    "print(s)"
   ]
  },
  {
   "cell_type": "code",
   "execution_count": null,
   "metadata": {},
   "outputs": [],
   "source": [
    "#get specific element s[r, c][1, any value]\n",
    "#get specific row [0,:]for single one\n",
    "#get specific column [:, any value]\n",
    "# getting [start_index:, end_index:, step_size] [0, 1:6:2]\n",
    "s[0,5] = 24\n",
    "p = np.array([[11,12,13,14,1,13,34],[63,45,66,54,67,57,376,]])\n",
    "print(p)\n"
   ]
  },
  {
   "cell_type": "code",
   "execution_count": 37,
   "metadata": {},
   "outputs": [
    {
     "name": "stdout",
     "output_type": "stream",
     "text": [
      "[[ 11  12  13  14   1  24  34]\n",
      " [ 63  45  66  54  67  57 376]]\n"
     ]
    }
   ],
   "source": [
    "p[0,5] = 24\n",
    "print(p)"
   ]
  },
  {
   "cell_type": "code",
   "execution_count": 58,
   "metadata": {},
   "outputs": [
    {
     "data": {
      "text/plain": [
       "array([2])"
      ]
     },
     "execution_count": 58,
     "metadata": {},
     "output_type": "execute_result"
    }
   ],
   "source": [
    "# Work outside in, b = np.array([[[1,2],[3,4],[5,6],[7,8]]])\n",
    "b = np.array([[[1,2],[3,4],[5,6],[7,8]]])\n",
    "b[:,0,]"
   ]
  },
  {
   "cell_type": "code",
   "execution_count": null,
   "metadata": {},
   "outputs": [],
   "source": [
    "b[:,1:] = [9,9]\n",
    "print(b)"
   ]
  },
  {
   "cell_type": "code",
   "execution_count": 64,
   "metadata": {},
   "outputs": [
    {
     "data": {
      "text/plain": [
       "array([[[1, 1],\n",
       "        [1, 1]],\n",
       "\n",
       "       [[1, 1],\n",
       "        [1, 1]],\n",
       "\n",
       "       [[1, 1],\n",
       "        [1, 1]],\n",
       "\n",
       "       [[1, 1],\n",
       "        [1, 1]]])"
      ]
     },
     "execution_count": 64,
     "metadata": {},
     "output_type": "execute_result"
    }
   ],
   "source": [
    "from numpy import dtype, int32\n",
    "\n",
    "\n",
    "np.ones((4,2,2), dtype= 'int32')"
   ]
  },
  {
   "cell_type": "code",
   "execution_count": 70,
   "metadata": {},
   "outputs": [
    {
     "data": {
      "text/plain": [
       "array([[99., 99.],\n",
       "       [99., 99.]], dtype=float32)"
      ]
     },
     "execution_count": 70,
     "metadata": {},
     "output_type": "execute_result"
    }
   ],
   "source": [
    "np.full((2,2), 99, dtype='float32')"
   ]
  },
  {
   "cell_type": "code",
   "execution_count": 77,
   "metadata": {},
   "outputs": [
    {
     "data": {
      "text/plain": [
       "array([[[4, 4],\n",
       "        [4, 4],\n",
       "        [4, 4],\n",
       "        [4, 4]]])"
      ]
     },
     "execution_count": 77,
     "metadata": {},
     "output_type": "execute_result"
    }
   ],
   "source": [
    "np.full(b.shape, 4)"
   ]
  },
  {
   "cell_type": "code",
   "execution_count": 87,
   "metadata": {},
   "outputs": [
    {
     "data": {
      "text/plain": [
       "array([[70, 41,  5, 58, 67, 50, 77, 32, 91, 24, 13,  2,  0, 75,  1, 19,\n",
       "        97, 18, 17, 80, 31,  8, 70, 85, 63, 71, 83, 82, 19, 54, 96, 35,\n",
       "        59, 91,  9, 57, 15,  4, 58, 46, 14, 88, 29, 48, 52, 94, 54, 47,\n",
       "        47, 10, 49, 34, 39, 66, 37, 16, 91, 42, 19, 74, 78, 83, 90, 51,\n",
       "        42, 72, 22, 47, 56, 14, 15, 99, 73, 19, 65, 19,  6, 47, 41, 47,\n",
       "        36, 46, 40, 43, 43,  4, 73, 48, 86, 76, 15,  8, 98,  2, 29, 68,\n",
       "        36, 54, 63, 21, 68, 63, 44, 56, 43, 40, 23, 15, 93, 95, 93, 41,\n",
       "        65, 70, 61,  8, 92, 34, 90, 23, 32, 46, 93, 80, 67, 83, 24, 58,\n",
       "         9, 25, 81, 80,  2, 66,  7, 37, 33,  9, 34, 40, 13,  0, 69,  8,\n",
       "        74,  8, 21, 31, 20, 20, 94, 94,  7,  9, 73, 16, 84, 11, 87, 77,\n",
       "        40, 33, 29, 63, 45, 45, 71, 81, 11, 72, 21, 49, 26, 64, 33, 62,\n",
       "        55,  7, 34, 79, 86, 46, 46,  5, 64, 37,  2, 63, 17, 36, 36, 15,\n",
       "        82, 86, 10, 26, 76, 83, 55, 78, 49,  4, 71, 64, 96,  2, 97, 42],\n",
       "       [18, 79, 98, 28, 15, 11, 56, 55, 70,  7, 30, 38, 14,  6, 45, 58,\n",
       "        38, 31, 87, 33,  8, 15, 81, 98,  3, 98, 14, 77, 19, 49, 93,  8,\n",
       "        63, 68,  8, 50,  1, 73, 20, 37, 61, 74, 87, 28, 97, 45, 22, 94,\n",
       "        12, 35, 29, 70, 82, 75, 24, 34, 99, 15, 98, 21, 76, 57, 76, 34,\n",
       "        92, 30, 23, 19, 13, 84, 10, 98, 16, 63, 52, 31, 35, 69, 15,  6,\n",
       "        40, 61, 77, 66, 20, 68, 13, 13, 51,  0, 84, 39, 57, 56, 25, 68,\n",
       "        89, 41, 51, 87, 58, 10, 36, 53, 76, 27, 92, 39, 54, 55, 54, 63,\n",
       "        68, 32, 30, 58, 35, 60, 80, 56,  8, 89, 48, 61, 61, 58, 17, 20,\n",
       "        31, 82, 79, 20, 78, 54, 69, 21, 71,  9, 16, 51, 45,  1, 43, 70,\n",
       "        17, 60, 98, 47, 45, 27, 89, 57, 92, 34, 90, 60, 78, 47, 98, 16,\n",
       "        96, 32, 88, 84, 64, 41, 18, 15, 35, 87, 93, 87, 36, 34, 34, 57,\n",
       "        72, 66, 10, 87, 73, 58, 41, 57, 34,  8, 75, 87, 34, 81, 80,  5,\n",
       "        62, 85, 12,  3, 99, 91, 58, 81, 41, 66,  8, 52, 89, 64, 82, 54],\n",
       "       [40, 52, 62, 37, 96, 94, 12, 45, 68, 26, 32, 32, 69, 42, 76,  3,\n",
       "        44, 82, 17,  3,  4, 20, 79, 94, 84, 72, 17, 17, 13, 32, 42, 98,\n",
       "        24, 36, 94, 25, 16, 69,  8, 23, 11, 92, 59, 27, 79,  8, 99, 15,\n",
       "        94, 27, 83, 83, 59, 84, 27, 39,  0, 87, 37, 40, 90,  7, 30, 25,\n",
       "        70, 90, 91, 46, 61, 69, 56, 59,  4, 15, 26,  8, 41, 17, 22, 64,\n",
       "        99, 74, 27, 44, 88, 85, 81, 51, 48, 30, 14, 16, 44, 87, 81,  0,\n",
       "         1, 48, 84, 11, 44, 81, 22, 92, 57,  1, 44, 36, 46,  2, 53, 34,\n",
       "        49, 22, 17, 61, 11, 50, 91, 53, 79, 62, 19,  4, 97, 69,  7, 49,\n",
       "        39, 77, 58, 47, 93, 16, 25, 35, 63, 14, 97, 12, 78,  2, 96, 18,\n",
       "        48, 39,  8, 10, 82, 27, 50, 46, 37, 52, 31, 41, 59, 82, 77, 93,\n",
       "        18, 35, 22, 15,  9, 90, 24, 56, 91, 65, 13, 15, 87, 15, 98, 14,\n",
       "        56, 99, 66, 52, 42, 19, 94, 38, 40, 17, 55, 89,  7,  2, 43, 80,\n",
       "        64, 98, 92, 65, 81, 16, 67, 76, 69, 55, 19, 49, 46, 68,  7, 62],\n",
       "       [55, 93,  3,  9, 38, 77, 64, 19, 73, 26, 86, 39, 59, 60, 99, 62,\n",
       "        40, 45, 32, 59, 47,  1, 84, 98, 21,  7, 99, 77, 35, 96, 51, 39,\n",
       "        85, 54, 97, 12,  2, 24,  0, 56, 47, 28, 97, 75, 44, 85,  0, 41,\n",
       "         5, 58, 29, 69, 82, 74, 79, 22, 60, 81, 18, 92, 84, 15, 14, 96,\n",
       "        58, 53, 45, 85, 75, 45, 60, 13, 13, 79, 92, 20, 11, 63, 49, 89,\n",
       "        54, 70, 68, 62, 49, 75, 50, 21,  0, 44, 78, 54, 10, 34,  6,  9,\n",
       "        97, 69, 63,  0, 12, 84, 53, 11, 57, 66, 20, 70, 62, 31, 80, 28,\n",
       "        24, 23, 74, 95, 59, 60, 75, 43, 85, 46, 98,  9, 88, 85,  5, 20,\n",
       "        73, 34, 90, 51, 72, 13, 58, 52, 59, 84, 93, 43, 92, 73, 49, 88,\n",
       "        95, 73, 96, 71, 36, 90, 99, 22, 35, 82, 32, 75, 67, 85,  4, 45,\n",
       "        97, 33, 99, 55, 12, 37, 12, 67, 13, 80, 74, 62, 60, 20, 32, 45,\n",
       "        85, 83, 80, 58, 90, 52, 24, 28, 75, 81, 82,  6, 10, 94,  1, 48,\n",
       "        63, 64, 54, 47, 23, 90, 71, 39, 35, 72,  6, 20, 82,  0, 65, 44]])"
      ]
     },
     "execution_count": 87,
     "metadata": {},
     "output_type": "execute_result"
    }
   ],
   "source": [
    "# random decimal numbers floats [np.random.random_sample(b.shape)]\n",
    "# random integer values [np.random.randint(7, size=(4,4))]\n",
    "\n",
    "np.random.randint(100, size=(4,208))"
   ]
  },
  {
   "cell_type": "code",
   "execution_count": 1,
   "metadata": {},
   "outputs": [],
   "source": [
    "import numpy as np\n"
   ]
  },
  {
   "cell_type": "code",
   "execution_count": 2,
   "metadata": {},
   "outputs": [
    {
     "data": {
      "text/plain": [
       "array([0, 1, 2, 3])"
      ]
     },
     "execution_count": 2,
     "metadata": {},
     "output_type": "execute_result"
    }
   ],
   "source": [
    "np.arange(4)"
   ]
  },
  {
   "cell_type": "code",
   "execution_count": 8,
   "metadata": {},
   "outputs": [
    {
     "name": "stdout",
     "output_type": "stream",
     "text": [
      "20\n",
      "40\n",
      "21\n",
      "60\n",
      "61\n"
     ]
    }
   ],
   "source": [
    "age = [20, 40, 21, 60]\n",
    "for ag in age:\n",
    "    print(ag)\n",
    "ag = ag + 1\n",
    "print(ag)"
   ]
  },
  {
   "cell_type": "code",
   "execution_count": null,
   "metadata": {},
   "outputs": [],
   "source": []
  }
 ],
 "metadata": {
  "kernelspec": {
   "display_name": "Python 3",
   "language": "python",
   "name": "python3"
  },
  "language_info": {
   "codemirror_mode": {
    "name": "ipython",
    "version": 3
   },
   "file_extension": ".py",
   "mimetype": "text/x-python",
   "name": "python",
   "nbconvert_exporter": "python",
   "pygments_lexer": "ipython3",
   "version": "3.11.5"
  }
 },
 "nbformat": 4,
 "nbformat_minor": 2
}
